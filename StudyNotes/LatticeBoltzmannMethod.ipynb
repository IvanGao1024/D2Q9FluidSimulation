{
 "cells": [
  {
   "cell_type": "markdown",
   "id": "71d77ea8-85e2-4c03-b1e6-011805c4f2bb",
   "metadata": {},
   "source": [
    "# Study Notes - Lattice Boltzmann Method \n",
    "\n",
    "* Last Revision Date: Today's date is: {% raw %}{{ \"today\" | date: \"%Y-%m-%d\" }}{% endraw %}\n",
    "\n",
    "## Textbook:\n",
    "\"Lattice Boltzmann Method - Fundamentals and Engineering Applications with Computer Codes\" by A. A. Mohamad\n",
    "\n",
    "## Dependencies:\n",
    "- Python version X.X.X\n",
    "- Jupyter Notebook version X.X.X\n",
    "- Library X version X.X.X\n",
    "- Library Y version X.X.X"
   ]
  },
  {
   "cell_type": "code",
   "execution_count": null,
   "id": "1f865679-fe4a-4cad-b8e3-a83e6694afdd",
   "metadata": {},
   "outputs": [],
   "source": []
  }
 ],
 "metadata": {
  "kernelspec": {
   "display_name": "Julia 1.8.0",
   "language": "julia",
   "name": "julia-1.8"
  },
  "language_info": {
   "file_extension": ".jl",
   "mimetype": "application/julia",
   "name": "julia",
   "version": "1.8.0"
  }
 },
 "nbformat": 4,
 "nbformat_minor": 5
}
