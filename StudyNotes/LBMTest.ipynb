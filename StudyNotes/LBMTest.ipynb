{
 "cells": [
  {
   "cell_type": "code",
   "execution_count": 1,
   "id": "5dbb16d3-b5b5-4915-8c8a-624237879746",
   "metadata": {},
   "outputs": [
    {
     "name": "stderr",
     "output_type": "stream",
     "text": [
      "┌ Warning: Pkg.installed() is deprecated\n",
      "└ @ Pkg /cache/build/default-amdci4-3/julialang/julia-release-1-dot-8/usr/share/julia/stdlib/v1.8/Pkg/src/Pkg.jl:675\n",
      "\u001b[32m\u001b[1m    Updating\u001b[22m\u001b[39m registry at `/opt/julia/registries/General.toml`\n",
      "\u001b[32m\u001b[1m   Resolving\u001b[22m\u001b[39m package versions...\n",
      "\u001b[32m\u001b[1m  No Changes\u001b[22m\u001b[39m to `~/CellularAutomata/StudyNotes/Project.toml`\n",
      "\u001b[32m\u001b[1m  No Changes\u001b[22m\u001b[39m to `~/CellularAutomata/StudyNotes/Manifest.toml`\n"
     ]
    },
    {
     "data": {
      "text/plain": [
       "Main.Utils"
      ]
     },
     "execution_count": 1,
     "metadata": {},
     "output_type": "execute_result"
    }
   ],
   "source": [
    "include(\"Utils.jl\")"
   ]
  },
  {
   "cell_type": "code",
   "execution_count": 230,
   "id": "235cbd26-cbb2-4edf-b050-f0a8c317c96d",
   "metadata": {},
   "outputs": [
    {
     "data": {
      "text/plain": [
       "LatticeBolzmannMethodD1Q2"
      ]
     },
     "execution_count": 230,
     "metadata": {},
     "output_type": "execute_result"
    }
   ],
   "source": [
    "@enum BoundaryCondition begin\n",
    "    ConstantTemperature\n",
    "    Adiabatic\n",
    "end\n",
    "\n",
    "#TODO; weight 是与模型有关的，不用给，边界条件改一下，推广的所有情况。然后把D2Q9完成，输出图像\n",
    "\"\"\"\n",
    "    LatticeBolzmannMethodD1Q2(tsize, xsize, alpha, weight, initialCondition, boundaryCondition)\n",
    "\n",
    "# Arguments\n",
    "- `arrangement::LatticeArrangement`: how lattice are arranged.\n",
    "- `xsize::Integer`: the number of lattice along x direction start with x = 0 and end with x = xsize.\n",
    "- `alpha::Float64: the diffusion coefficient in diffusion equation.\n",
    "- `ysize::Integer=0`: the number of lattice along y direction start with y = 0 and end with y = ysize.\n",
    "- `zsize::Integer=0`: the number of lattice along z direction start with z = 0 and end with z = zsize.\n",
    "- `tsize::Integer=100`: the number of lattice along time direction start with t = 0 and end with t = tsize.\n",
    "\n",
    "\"\"\"\n",
    "function LatticeBolzmannMethodD1Q2(tsize::Integer, xsize::Integer,\n",
    "        alpha::Float64, weight::Vector{Float64}, initialCondition::Function, boundaryCondition::Function)\n",
    "\n",
    "    # Pre-check\n",
    "    D = 1\n",
    "    @assert sum(weight) == 1.0\n",
    "    @assert xsize > 0\n",
    "    @assert length(weight) == 2\n",
    "    @assert length(initialCondition(xsize)) == 2\n",
    "    @assert length(boundaryCondition(1, 0)) == 1\n",
    "    @assert length(boundaryCondition(2, 0)) == 1\n",
    "    # TODO: check all parameter are valid for given arrangement\n",
    "    \n",
    "    # non-dimonsionalized scaling and initiate variables\n",
    "    dx = 1.0\n",
    "    dt = 1.0\n",
    "    speed_of_sound_squared = (dx*dx) / (dt*dt)\n",
    "    @show omega = 1.0 / (((D * alpha) / (dt * speed_of_sound_squared)) + 0.5)\n",
    "    \n",
    "    # Initialize data structure by dimensions\n",
    "    density_data = fill(0.0, tsize, xsize) # store computation result at each time step\n",
    "\n",
    "    lattice = Array{Any}(undef, xsize)\n",
    "    for x in 1:xsize\n",
    "        lattice[x] = initialCondition(x)\n",
    "    end\n",
    "    \n",
    "    # Main loop\n",
    "    for i in 1:tsize\n",
    "        # Collision process\n",
    "        for j in 1:xsize\n",
    "            lattice_old = copy(lattice[j])\n",
    "            lattice[j][1] = (1.0 - omega) * lattice_old[1] + omega * (weight[1] * (lattice_old[1] + lattice_old[2]))\n",
    "            lattice[j][2] = (1.0 - omega) * lattice_old[2] + omega * (weight[2] * (lattice_old[1] + lattice_old[2]))\n",
    "        end\n",
    "\n",
    "        # Streaming process\n",
    "        for j in 1:xsize\n",
    "            if j == xsize\n",
    "                # Boundary condition\n",
    "                lattice[1][1] = 1.0 - lattice[1][2]  # Constant temperature boundary condition, x=0\n",
    "                lattice[xsize][1] = lattice[xsize-1][1]  # Adiabatic boundary condition, x=L\n",
    "                lattice[xsize][2] = lattice[xsize-1][2]  # Adiabatic boundary condition, x=L\n",
    "            else\n",
    "                lattice[xsize-j+1][1] = lattice[xsize-j][1]  # f1 streaming\n",
    "                lattice[j][2] = lattice[j+1][2]  # f2 streaming\n",
    "            end\n",
    "        end\n",
    "        \n",
    "        # Store Result\n",
    "        # append!(density_data, DataFrame(rho' , Symbol.(\"rho_\" .* string.(0:m))))  \n",
    "    end\n",
    "    \n",
    "    # y = [0.5 * (lattice[x][1] + lattice[x][2]) for x in 1:xsize]\n",
    "    # plot(1:xsize, y, marker=:circle, markersize=1, xlabel=\"Index\", ylabel=\"Modified Value\", legend=false)\n",
    "    return [sum(lattice[x]) for x in 1:xsize] # Actuall value at each nodes\n",
    "end"
   ]
  },
  {
   "cell_type": "code",
   "execution_count": 231,
   "id": "67e9ef58-4eb1-4305-90e0-39bf9016bbad",
   "metadata": {},
   "outputs": [
    {
     "name": "stdout",
     "output_type": "stream",
     "text": [
      "search: \u001b[0m\u001b[1mL\u001b[22m\u001b[0m\u001b[1ma\u001b[22m\u001b[0m\u001b[1mt\u001b[22m\u001b[0m\u001b[1mt\u001b[22m\u001b[0m\u001b[1mi\u001b[22m\u001b[0m\u001b[1mc\u001b[22m\u001b[0m\u001b[1me\u001b[22m\u001b[0m\u001b[1mB\u001b[22m\u001b[0m\u001b[1mo\u001b[22m\u001b[0m\u001b[1ml\u001b[22m\u001b[0m\u001b[1mz\u001b[22m\u001b[0m\u001b[1mm\u001b[22m\u001b[0m\u001b[1ma\u001b[22m\u001b[0m\u001b[1mn\u001b[22m\u001b[0m\u001b[1mn\u001b[22m\u001b[0m\u001b[1mM\u001b[22m\u001b[0m\u001b[1me\u001b[22m\u001b[0m\u001b[1mt\u001b[22m\u001b[0m\u001b[1mh\u001b[22m\u001b[0m\u001b[1mo\u001b[22m\u001b[0m\u001b[1md\u001b[22m\u001b[0m\u001b[1mD\u001b[22m\u001b[0m\u001b[1m1\u001b[22m\u001b[0m\u001b[1mQ\u001b[22m\u001b[0m\u001b[1m2\u001b[22m\n",
      "\n"
     ]
    },
    {
     "data": {
      "text/latex": [
       "\\begin{verbatim}\n",
       "LatticeBolzmannMethodD1Q2(tsize, xsize, alpha, weight, initialCondition, boundaryCondition)\n",
       "\\end{verbatim}\n",
       "\\section{Arguments}\n",
       "\\begin{itemize}\n",
       "\\item \\texttt{arrangement::LatticeArrangement}: how lattice are arranged.\n",
       "\n",
       "\n",
       "\\item \\texttt{xsize::Integer}: the number of lattice along x direction start with x = 0 and end with x = xsize.\n",
       "\n",
       "\n",
       "\\item `alpha::Float64: the diffusion coefficient in diffusion equation.\n",
       "\n",
       "\n",
       "\\item \\texttt{ysize::Integer=0}: the number of lattice along y direction start with y = 0 and end with y = ysize.\n",
       "\n",
       "\n",
       "\\item \\texttt{zsize::Integer=0}: the number of lattice along z direction start with z = 0 and end with z = zsize.\n",
       "\n",
       "\n",
       "\\item \\texttt{tsize::Integer=100}: the number of lattice along time direction start with t = 0 and end with t = tsize.\n",
       "\n",
       "\\end{itemize}\n"
      ],
      "text/markdown": [
       "```\n",
       "LatticeBolzmannMethodD1Q2(tsize, xsize, alpha, weight, initialCondition, boundaryCondition)\n",
       "```\n",
       "\n",
       "# Arguments\n",
       "\n",
       "  * `arrangement::LatticeArrangement`: how lattice are arranged.\n",
       "  * `xsize::Integer`: the number of lattice along x direction start with x = 0 and end with x = xsize.\n",
       "  * `alpha::Float64: the diffusion coefficient in diffusion equation.\n",
       "  * `ysize::Integer=0`: the number of lattice along y direction start with y = 0 and end with y = ysize.\n",
       "  * `zsize::Integer=0`: the number of lattice along z direction start with z = 0 and end with z = zsize.\n",
       "  * `tsize::Integer=100`: the number of lattice along time direction start with t = 0 and end with t = tsize.\n"
      ],
      "text/plain": [
       "\u001b[36m  LatticeBolzmannMethodD1Q2(tsize, xsize, alpha, weight, initialCondition, boundaryCondition)\u001b[39m\n",
       "\n",
       "\u001b[1m  Arguments\u001b[22m\n",
       "\u001b[1m  ≡≡≡≡≡≡≡≡≡≡≡\u001b[22m\n",
       "\n",
       "    •  \u001b[36marrangement::LatticeArrangement\u001b[39m: how lattice are arranged.\n",
       "\n",
       "    •  \u001b[36mxsize::Integer\u001b[39m: the number of lattice along x direction start with\n",
       "       x = 0 and end with x = xsize.\n",
       "\n",
       "    •  `alpha::Float64: the diffusion coefficient in diffusion equation.\n",
       "\n",
       "    •  \u001b[36mysize::Integer=0\u001b[39m: the number of lattice along y direction start\n",
       "       with y = 0 and end with y = ysize.\n",
       "\n",
       "    •  \u001b[36mzsize::Integer=0\u001b[39m: the number of lattice along z direction start\n",
       "       with z = 0 and end with z = zsize.\n",
       "\n",
       "    •  \u001b[36mtsize::Integer=100\u001b[39m: the number of lattice along time direction\n",
       "       start with t = 0 and end with t = tsize."
      ]
     },
     "execution_count": 231,
     "metadata": {},
     "output_type": "execute_result"
    }
   ],
   "source": [
    "?LatticeBolzmannMethodD1Q2"
   ]
  },
  {
   "cell_type": "code",
   "execution_count": 228,
   "id": "8b088b07-c5e6-4543-a25e-4375a09c738c",
   "metadata": {},
   "outputs": [
    {
     "name": "stdout",
     "output_type": "stream",
     "text": [
      "omega = 1.0 / ((D * alpha) / (dt * speed_of_sound_squared) + 0.5) = 1.3333333333333333\n"
     ]
    },
    {
     "data": {
      "image/svg+xml": [
       "<?xml version=\"1.0\" encoding=\"utf-8\"?>\n",
       "<svg xmlns=\"http://www.w3.org/2000/svg\" xmlns:xlink=\"http://www.w3.org/1999/xlink\" width=\"600\" height=\"400\" viewBox=\"0 0 2400 1600\">\n",
       "<defs>\n",
       "  <clipPath id=\"clip290\">\n",
       "    <rect x=\"0\" y=\"0\" width=\"2400\" height=\"1600\"/>\n",
       "  </clipPath>\n",
       "</defs>\n",
       "<path clip-path=\"url(#clip290)\" d=\"M0 1600 L2400 1600 L2400 0 L0 0  Z\" fill=\"#ffffff\" fill-rule=\"evenodd\" fill-opacity=\"1\"/>\n",
       "<defs>\n",
       "  <clipPath id=\"clip291\">\n",
       "    <rect x=\"480\" y=\"0\" width=\"1681\" height=\"1600\"/>\n",
       "  </clipPath>\n",
       "</defs>\n",
       "<path clip-path=\"url(#clip290)\" d=\"M186.274 1486.45 L2352.76 1486.45 L2352.76 47.2441 L186.274 47.2441  Z\" fill=\"#ffffff\" fill-rule=\"evenodd\" fill-opacity=\"1\"/>\n",
       "<defs>\n",
       "  <clipPath id=\"clip292\">\n",
       "    <rect x=\"186\" y=\"47\" width=\"2167\" height=\"1440\"/>\n",
       "  </clipPath>\n",
       "</defs>\n",
       "<polyline clip-path=\"url(#clip292)\" style=\"stroke:#000000; stroke-linecap:round; stroke-linejoin:round; stroke-width:2; stroke-opacity:0.1; fill:none\" points=\"226.945,1486.45 226.945,47.2441 \"/>\n",
       "<polyline clip-path=\"url(#clip292)\" style=\"stroke:#000000; stroke-linecap:round; stroke-linejoin:round; stroke-width:2; stroke-opacity:0.1; fill:none\" points=\"743.069,1486.45 743.069,47.2441 \"/>\n",
       "<polyline clip-path=\"url(#clip292)\" style=\"stroke:#000000; stroke-linecap:round; stroke-linejoin:round; stroke-width:2; stroke-opacity:0.1; fill:none\" points=\"1259.19,1486.45 1259.19,47.2441 \"/>\n",
       "<polyline clip-path=\"url(#clip292)\" style=\"stroke:#000000; stroke-linecap:round; stroke-linejoin:round; stroke-width:2; stroke-opacity:0.1; fill:none\" points=\"1775.32,1486.45 1775.32,47.2441 \"/>\n",
       "<polyline clip-path=\"url(#clip292)\" style=\"stroke:#000000; stroke-linecap:round; stroke-linejoin:round; stroke-width:2; stroke-opacity:0.1; fill:none\" points=\"2291.44,1486.45 2291.44,47.2441 \"/>\n",
       "<polyline clip-path=\"url(#clip290)\" style=\"stroke:#000000; stroke-linecap:round; stroke-linejoin:round; stroke-width:4; stroke-opacity:1; fill:none\" points=\"186.274,1486.45 2352.76,1486.45 \"/>\n",
       "<polyline clip-path=\"url(#clip290)\" style=\"stroke:#000000; stroke-linecap:round; stroke-linejoin:round; stroke-width:4; stroke-opacity:1; fill:none\" points=\"226.945,1486.45 226.945,1467.55 \"/>\n",
       "<polyline clip-path=\"url(#clip290)\" style=\"stroke:#000000; stroke-linecap:round; stroke-linejoin:round; stroke-width:4; stroke-opacity:1; fill:none\" points=\"743.069,1486.45 743.069,1467.55 \"/>\n",
       "<polyline clip-path=\"url(#clip290)\" style=\"stroke:#000000; stroke-linecap:round; stroke-linejoin:round; stroke-width:4; stroke-opacity:1; fill:none\" points=\"1259.19,1486.45 1259.19,1467.55 \"/>\n",
       "<polyline clip-path=\"url(#clip290)\" style=\"stroke:#000000; stroke-linecap:round; stroke-linejoin:round; stroke-width:4; stroke-opacity:1; fill:none\" points=\"1775.32,1486.45 1775.32,1467.55 \"/>\n",
       "<polyline clip-path=\"url(#clip290)\" style=\"stroke:#000000; stroke-linecap:round; stroke-linejoin:round; stroke-width:4; stroke-opacity:1; fill:none\" points=\"2291.44,1486.45 2291.44,1467.55 \"/>\n",
       "<path clip-path=\"url(#clip290)\" d=\"M226.945 1517.37 Q223.333 1517.37 221.505 1520.93 Q219.699 1524.47 219.699 1531.6 Q219.699 1538.71 221.505 1542.27 Q223.333 1545.82 226.945 1545.82 Q230.579 1545.82 232.384 1542.27 Q234.213 1538.71 234.213 1531.6 Q234.213 1524.47 232.384 1520.93 Q230.579 1517.37 226.945 1517.37 M226.945 1513.66 Q232.755 1513.66 235.81 1518.27 Q238.889 1522.85 238.889 1531.6 Q238.889 1540.33 235.81 1544.94 Q232.755 1549.52 226.945 1549.52 Q221.134 1549.52 218.056 1544.94 Q215 1540.33 215 1531.6 Q215 1522.85 218.056 1518.27 Q221.134 1513.66 226.945 1513.66 Z\" fill=\"#000000\" fill-rule=\"nonzero\" fill-opacity=\"1\" /><path clip-path=\"url(#clip290)\" d=\"M722.339 1544.91 L738.659 1544.91 L738.659 1548.85 L716.714 1548.85 L716.714 1544.91 Q719.377 1542.16 723.96 1537.53 Q728.566 1532.88 729.747 1531.53 Q731.992 1529.01 732.872 1527.27 Q733.775 1525.51 733.775 1523.82 Q733.775 1521.07 731.83 1519.33 Q729.909 1517.6 726.807 1517.6 Q724.608 1517.6 722.154 1518.36 Q719.724 1519.13 716.946 1520.68 L716.946 1515.95 Q719.77 1514.82 722.224 1514.24 Q724.677 1513.66 726.714 1513.66 Q732.085 1513.66 735.279 1516.35 Q738.474 1519.03 738.474 1523.52 Q738.474 1525.65 737.663 1527.57 Q736.876 1529.47 734.77 1532.07 Q734.191 1532.74 731.089 1535.95 Q727.988 1539.15 722.339 1544.91 Z\" fill=\"#000000\" fill-rule=\"nonzero\" fill-opacity=\"1\" /><path clip-path=\"url(#clip290)\" d=\"M748.52 1514.29 L766.876 1514.29 L766.876 1518.22 L752.802 1518.22 L752.802 1526.7 Q753.821 1526.35 754.839 1526.19 Q755.858 1526 756.876 1526 Q762.663 1526 766.043 1529.17 Q769.423 1532.34 769.423 1537.76 Q769.423 1543.34 765.95 1546.44 Q762.478 1549.52 756.159 1549.52 Q753.983 1549.52 751.714 1549.15 Q749.469 1548.78 747.062 1548.04 L747.062 1543.34 Q749.145 1544.47 751.367 1545.03 Q753.589 1545.58 756.066 1545.58 Q760.071 1545.58 762.409 1543.48 Q764.747 1541.37 764.747 1537.76 Q764.747 1534.15 762.409 1532.04 Q760.071 1529.94 756.066 1529.94 Q754.191 1529.94 752.316 1530.35 Q750.464 1530.77 748.52 1531.65 L748.52 1514.29 Z\" fill=\"#000000\" fill-rule=\"nonzero\" fill-opacity=\"1\" /><path clip-path=\"url(#clip290)\" d=\"M1233.89 1514.29 L1252.25 1514.29 L1252.25 1518.22 L1238.17 1518.22 L1238.17 1526.7 Q1239.19 1526.35 1240.21 1526.19 Q1241.23 1526 1242.25 1526 Q1248.04 1526 1251.41 1529.17 Q1254.79 1532.34 1254.79 1537.76 Q1254.79 1543.34 1251.32 1546.44 Q1247.85 1549.52 1241.53 1549.52 Q1239.35 1549.52 1237.09 1549.15 Q1234.84 1548.78 1232.43 1548.04 L1232.43 1543.34 Q1234.52 1544.47 1236.74 1545.03 Q1238.96 1545.58 1241.44 1545.58 Q1245.44 1545.58 1247.78 1543.48 Q1250.12 1541.37 1250.12 1537.76 Q1250.12 1534.15 1247.78 1532.04 Q1245.44 1529.94 1241.44 1529.94 Q1239.56 1529.94 1237.69 1530.35 Q1235.84 1530.77 1233.89 1531.65 L1233.89 1514.29 Z\" fill=\"#000000\" fill-rule=\"nonzero\" fill-opacity=\"1\" /><path clip-path=\"url(#clip290)\" d=\"M1274.01 1517.37 Q1270.4 1517.37 1268.57 1520.93 Q1266.76 1524.47 1266.76 1531.6 Q1266.76 1538.71 1268.57 1542.27 Q1270.4 1545.82 1274.01 1545.82 Q1277.64 1545.82 1279.45 1542.27 Q1281.28 1538.71 1281.28 1531.6 Q1281.28 1524.47 1279.45 1520.93 Q1277.64 1517.37 1274.01 1517.37 M1274.01 1513.66 Q1279.82 1513.66 1282.87 1518.27 Q1285.95 1522.85 1285.95 1531.6 Q1285.95 1540.33 1282.87 1544.94 Q1279.82 1549.52 1274.01 1549.52 Q1268.2 1549.52 1265.12 1544.94 Q1262.06 1540.33 1262.06 1531.6 Q1262.06 1522.85 1265.12 1518.27 Q1268.2 1513.66 1274.01 1513.66 Z\" fill=\"#000000\" fill-rule=\"nonzero\" fill-opacity=\"1\" /><path clip-path=\"url(#clip290)\" d=\"M1749.17 1514.29 L1771.39 1514.29 L1771.39 1516.28 L1758.85 1548.85 L1753.96 1548.85 L1765.77 1518.22 L1749.17 1518.22 L1749.17 1514.29 Z\" fill=\"#000000\" fill-rule=\"nonzero\" fill-opacity=\"1\" /><path clip-path=\"url(#clip290)\" d=\"M1780.56 1514.29 L1798.92 1514.29 L1798.92 1518.22 L1784.84 1518.22 L1784.84 1526.7 Q1785.86 1526.35 1786.88 1526.19 Q1787.9 1526 1788.92 1526 Q1794.7 1526 1798.08 1529.17 Q1801.46 1532.34 1801.46 1537.76 Q1801.46 1543.34 1797.99 1546.44 Q1794.52 1549.52 1788.2 1549.52 Q1786.02 1549.52 1783.75 1549.15 Q1781.51 1548.78 1779.1 1548.04 L1779.1 1543.34 Q1781.18 1544.47 1783.41 1545.03 Q1785.63 1545.58 1788.11 1545.58 Q1792.11 1545.58 1794.45 1543.48 Q1796.79 1541.37 1796.79 1537.76 Q1796.79 1534.15 1794.45 1532.04 Q1792.11 1529.94 1788.11 1529.94 Q1786.23 1529.94 1784.36 1530.35 Q1782.5 1530.77 1780.56 1531.65 L1780.56 1514.29 Z\" fill=\"#000000\" fill-rule=\"nonzero\" fill-opacity=\"1\" /><path clip-path=\"url(#clip290)\" d=\"M2251.05 1544.91 L2258.69 1544.91 L2258.69 1518.55 L2250.38 1520.21 L2250.38 1515.95 L2258.64 1514.29 L2263.32 1514.29 L2263.32 1544.91 L2270.95 1544.91 L2270.95 1548.85 L2251.05 1548.85 L2251.05 1544.91 Z\" fill=\"#000000\" fill-rule=\"nonzero\" fill-opacity=\"1\" /><path clip-path=\"url(#clip290)\" d=\"M2290.4 1517.37 Q2286.79 1517.37 2284.96 1520.93 Q2283.15 1524.47 2283.15 1531.6 Q2283.15 1538.71 2284.96 1542.27 Q2286.79 1545.82 2290.4 1545.82 Q2294.03 1545.82 2295.84 1542.27 Q2297.67 1538.71 2297.67 1531.6 Q2297.67 1524.47 2295.84 1520.93 Q2294.03 1517.37 2290.4 1517.37 M2290.4 1513.66 Q2296.21 1513.66 2299.26 1518.27 Q2302.34 1522.85 2302.34 1531.6 Q2302.34 1540.33 2299.26 1544.94 Q2296.21 1549.52 2290.4 1549.52 Q2284.59 1549.52 2281.51 1544.94 Q2278.45 1540.33 2278.45 1531.6 Q2278.45 1522.85 2281.51 1518.27 Q2284.59 1513.66 2290.4 1513.66 Z\" fill=\"#000000\" fill-rule=\"nonzero\" fill-opacity=\"1\" /><path clip-path=\"url(#clip290)\" d=\"M2320.56 1517.37 Q2316.95 1517.37 2315.12 1520.93 Q2313.32 1524.47 2313.32 1531.6 Q2313.32 1538.71 2315.12 1542.27 Q2316.95 1545.82 2320.56 1545.82 Q2324.19 1545.82 2326 1542.27 Q2327.83 1538.71 2327.83 1531.6 Q2327.83 1524.47 2326 1520.93 Q2324.19 1517.37 2320.56 1517.37 M2320.56 1513.66 Q2326.37 1513.66 2329.43 1518.27 Q2332.5 1522.85 2332.5 1531.6 Q2332.5 1540.33 2329.43 1544.94 Q2326.37 1549.52 2320.56 1549.52 Q2314.75 1549.52 2311.67 1544.94 Q2308.62 1540.33 2308.62 1531.6 Q2308.62 1522.85 2311.67 1518.27 Q2314.75 1513.66 2320.56 1513.66 Z\" fill=\"#000000\" fill-rule=\"nonzero\" fill-opacity=\"1\" /><polyline clip-path=\"url(#clip292)\" style=\"stroke:#000000; stroke-linecap:round; stroke-linejoin:round; stroke-width:2; stroke-opacity:0.1; fill:none\" points=\"186.274,1445.72 2352.76,1445.72 \"/>\n",
       "<polyline clip-path=\"url(#clip292)\" style=\"stroke:#000000; stroke-linecap:round; stroke-linejoin:round; stroke-width:2; stroke-opacity:0.1; fill:none\" points=\"186.274,1106.28 2352.76,1106.28 \"/>\n",
       "<polyline clip-path=\"url(#clip292)\" style=\"stroke:#000000; stroke-linecap:round; stroke-linejoin:round; stroke-width:2; stroke-opacity:0.1; fill:none\" points=\"186.274,766.846 2352.76,766.846 \"/>\n",
       "<polyline clip-path=\"url(#clip292)\" style=\"stroke:#000000; stroke-linecap:round; stroke-linejoin:round; stroke-width:2; stroke-opacity:0.1; fill:none\" points=\"186.274,427.411 2352.76,427.411 \"/>\n",
       "<polyline clip-path=\"url(#clip292)\" style=\"stroke:#000000; stroke-linecap:round; stroke-linejoin:round; stroke-width:2; stroke-opacity:0.1; fill:none\" points=\"186.274,87.9763 2352.76,87.9763 \"/>\n",
       "<polyline clip-path=\"url(#clip290)\" style=\"stroke:#000000; stroke-linecap:round; stroke-linejoin:round; stroke-width:4; stroke-opacity:1; fill:none\" points=\"186.274,1486.45 186.274,47.2441 \"/>\n",
       "<polyline clip-path=\"url(#clip290)\" style=\"stroke:#000000; stroke-linecap:round; stroke-linejoin:round; stroke-width:4; stroke-opacity:1; fill:none\" points=\"186.274,1445.72 205.172,1445.72 \"/>\n",
       "<polyline clip-path=\"url(#clip290)\" style=\"stroke:#000000; stroke-linecap:round; stroke-linejoin:round; stroke-width:4; stroke-opacity:1; fill:none\" points=\"186.274,1106.28 205.172,1106.28 \"/>\n",
       "<polyline clip-path=\"url(#clip290)\" style=\"stroke:#000000; stroke-linecap:round; stroke-linejoin:round; stroke-width:4; stroke-opacity:1; fill:none\" points=\"186.274,766.846 205.172,766.846 \"/>\n",
       "<polyline clip-path=\"url(#clip290)\" style=\"stroke:#000000; stroke-linecap:round; stroke-linejoin:round; stroke-width:4; stroke-opacity:1; fill:none\" points=\"186.274,427.411 205.172,427.411 \"/>\n",
       "<polyline clip-path=\"url(#clip290)\" style=\"stroke:#000000; stroke-linecap:round; stroke-linejoin:round; stroke-width:4; stroke-opacity:1; fill:none\" points=\"186.274,87.9763 205.172,87.9763 \"/>\n",
       "<path clip-path=\"url(#clip290)\" d=\"M62.9365 1431.51 Q59.3254 1431.51 57.4967 1435.08 Q55.6912 1438.62 55.6912 1445.75 Q55.6912 1452.86 57.4967 1456.42 Q59.3254 1459.96 62.9365 1459.96 Q66.5707 1459.96 68.3763 1456.42 Q70.205 1452.86 70.205 1445.75 Q70.205 1438.62 68.3763 1435.08 Q66.5707 1431.51 62.9365 1431.51 M62.9365 1427.81 Q68.7467 1427.81 71.8022 1432.42 Q74.8809 1437 74.8809 1445.75 Q74.8809 1454.48 71.8022 1459.08 Q68.7467 1463.67 62.9365 1463.67 Q57.1264 1463.67 54.0477 1459.08 Q50.9921 1454.48 50.9921 1445.75 Q50.9921 1437 54.0477 1432.42 Q57.1264 1427.81 62.9365 1427.81 Z\" fill=\"#000000\" fill-rule=\"nonzero\" fill-opacity=\"1\" /><path clip-path=\"url(#clip290)\" d=\"M83.0984 1457.12 L87.9827 1457.12 L87.9827 1463 L83.0984 1463 L83.0984 1457.12 Z\" fill=\"#000000\" fill-rule=\"nonzero\" fill-opacity=\"1\" /><path clip-path=\"url(#clip290)\" d=\"M108.168 1431.51 Q104.557 1431.51 102.728 1435.08 Q100.922 1438.62 100.922 1445.75 Q100.922 1452.86 102.728 1456.42 Q104.557 1459.96 108.168 1459.96 Q111.802 1459.96 113.608 1456.42 Q115.436 1452.86 115.436 1445.75 Q115.436 1438.62 113.608 1435.08 Q111.802 1431.51 108.168 1431.51 M108.168 1427.81 Q113.978 1427.81 117.033 1432.42 Q120.112 1437 120.112 1445.75 Q120.112 1454.48 117.033 1459.08 Q113.978 1463.67 108.168 1463.67 Q102.358 1463.67 99.2789 1459.08 Q96.2234 1454.48 96.2234 1445.75 Q96.2234 1437 99.2789 1432.42 Q102.358 1427.81 108.168 1427.81 Z\" fill=\"#000000\" fill-rule=\"nonzero\" fill-opacity=\"1\" /><path clip-path=\"url(#clip290)\" d=\"M138.33 1431.51 Q134.719 1431.51 132.89 1435.08 Q131.084 1438.62 131.084 1445.75 Q131.084 1452.86 132.89 1456.42 Q134.719 1459.96 138.33 1459.96 Q141.964 1459.96 143.769 1456.42 Q145.598 1452.86 145.598 1445.75 Q145.598 1438.62 143.769 1435.08 Q141.964 1431.51 138.33 1431.51 M138.33 1427.81 Q144.14 1427.81 147.195 1432.42 Q150.274 1437 150.274 1445.75 Q150.274 1454.48 147.195 1459.08 Q144.14 1463.67 138.33 1463.67 Q132.519 1463.67 129.441 1459.08 Q126.385 1454.48 126.385 1445.75 Q126.385 1437 129.441 1432.42 Q132.519 1427.81 138.33 1427.81 Z\" fill=\"#000000\" fill-rule=\"nonzero\" fill-opacity=\"1\" /><path clip-path=\"url(#clip290)\" d=\"M63.9319 1092.08 Q60.3208 1092.08 58.4921 1095.64 Q56.6865 1099.19 56.6865 1106.32 Q56.6865 1113.42 58.4921 1116.99 Q60.3208 1120.53 63.9319 1120.53 Q67.5661 1120.53 69.3717 1116.99 Q71.2004 1113.42 71.2004 1106.32 Q71.2004 1099.19 69.3717 1095.64 Q67.5661 1092.08 63.9319 1092.08 M63.9319 1088.38 Q69.742 1088.38 72.7976 1092.98 Q75.8763 1097.57 75.8763 1106.32 Q75.8763 1115.04 72.7976 1119.65 Q69.742 1124.23 63.9319 1124.23 Q58.1217 1124.23 55.043 1119.65 Q51.9875 1115.04 51.9875 1106.32 Q51.9875 1097.57 55.043 1092.98 Q58.1217 1088.38 63.9319 1088.38 Z\" fill=\"#000000\" fill-rule=\"nonzero\" fill-opacity=\"1\" /><path clip-path=\"url(#clip290)\" d=\"M84.0938 1117.68 L88.978 1117.68 L88.978 1123.56 L84.0938 1123.56 L84.0938 1117.68 Z\" fill=\"#000000\" fill-rule=\"nonzero\" fill-opacity=\"1\" /><path clip-path=\"url(#clip290)\" d=\"M103.191 1119.63 L119.51 1119.63 L119.51 1123.56 L97.566 1123.56 L97.566 1119.63 Q100.228 1116.87 104.811 1112.24 Q109.418 1107.59 110.598 1106.25 Q112.844 1103.72 113.723 1101.99 Q114.626 1100.23 114.626 1098.54 Q114.626 1095.78 112.682 1094.05 Q110.76 1092.31 107.658 1092.31 Q105.459 1092.31 103.006 1093.07 Q100.575 1093.84 97.7974 1095.39 L97.7974 1090.67 Q100.621 1089.53 103.075 1088.95 Q105.529 1088.38 107.566 1088.38 Q112.936 1088.38 116.131 1091.06 Q119.325 1093.75 119.325 1098.24 Q119.325 1100.37 118.515 1102.29 Q117.728 1104.19 115.621 1106.78 Q115.043 1107.45 111.941 1110.67 Q108.839 1113.86 103.191 1119.63 Z\" fill=\"#000000\" fill-rule=\"nonzero\" fill-opacity=\"1\" /><path clip-path=\"url(#clip290)\" d=\"M129.371 1089 L147.728 1089 L147.728 1092.94 L133.654 1092.94 L133.654 1101.41 Q134.672 1101.06 135.691 1100.9 Q136.709 1100.71 137.728 1100.71 Q143.515 1100.71 146.894 1103.89 Q150.274 1107.06 150.274 1112.47 Q150.274 1118.05 146.802 1121.15 Q143.33 1124.23 137.01 1124.23 Q134.834 1124.23 132.566 1123.86 Q130.32 1123.49 127.913 1122.75 L127.913 1118.05 Q129.996 1119.19 132.219 1119.74 Q134.441 1120.3 136.918 1120.3 Q140.922 1120.3 143.26 1118.19 Q145.598 1116.08 145.598 1112.47 Q145.598 1108.86 143.26 1106.76 Q140.922 1104.65 136.918 1104.65 Q135.043 1104.65 133.168 1105.07 Q131.316 1105.48 129.371 1106.36 L129.371 1089 Z\" fill=\"#000000\" fill-rule=\"nonzero\" fill-opacity=\"1\" /><path clip-path=\"url(#clip290)\" d=\"M62.9365 752.645 Q59.3254 752.645 57.4967 756.209 Q55.6912 759.751 55.6912 766.881 Q55.6912 773.987 57.4967 777.552 Q59.3254 781.094 62.9365 781.094 Q66.5707 781.094 68.3763 777.552 Q70.205 773.987 70.205 766.881 Q70.205 759.751 68.3763 756.209 Q66.5707 752.645 62.9365 752.645 M62.9365 748.941 Q68.7467 748.941 71.8022 753.547 Q74.8809 758.131 74.8809 766.881 Q74.8809 775.608 71.8022 780.214 Q68.7467 784.797 62.9365 784.797 Q57.1264 784.797 54.0477 780.214 Q50.9921 775.608 50.9921 766.881 Q50.9921 758.131 54.0477 753.547 Q57.1264 748.941 62.9365 748.941 Z\" fill=\"#000000\" fill-rule=\"nonzero\" fill-opacity=\"1\" /><path clip-path=\"url(#clip290)\" d=\"M83.0984 778.246 L87.9827 778.246 L87.9827 784.126 L83.0984 784.126 L83.0984 778.246 Z\" fill=\"#000000\" fill-rule=\"nonzero\" fill-opacity=\"1\" /><path clip-path=\"url(#clip290)\" d=\"M98.2141 749.566 L116.57 749.566 L116.57 753.501 L102.496 753.501 L102.496 761.973 Q103.515 761.626 104.534 761.464 Q105.552 761.279 106.571 761.279 Q112.358 761.279 115.737 764.45 Q119.117 767.621 119.117 773.038 Q119.117 778.617 115.645 781.719 Q112.172 784.797 105.853 784.797 Q103.677 784.797 101.409 784.427 Q99.1632 784.057 96.7558 783.316 L96.7558 778.617 Q98.8391 779.751 101.061 780.307 Q103.284 780.862 105.76 780.862 Q109.765 780.862 112.103 778.756 Q114.441 776.649 114.441 773.038 Q114.441 769.427 112.103 767.321 Q109.765 765.214 105.76 765.214 Q103.885 765.214 102.01 765.631 Q100.159 766.047 98.2141 766.927 L98.2141 749.566 Z\" fill=\"#000000\" fill-rule=\"nonzero\" fill-opacity=\"1\" /><path clip-path=\"url(#clip290)\" d=\"M138.33 752.645 Q134.719 752.645 132.89 756.209 Q131.084 759.751 131.084 766.881 Q131.084 773.987 132.89 777.552 Q134.719 781.094 138.33 781.094 Q141.964 781.094 143.769 777.552 Q145.598 773.987 145.598 766.881 Q145.598 759.751 143.769 756.209 Q141.964 752.645 138.33 752.645 M138.33 748.941 Q144.14 748.941 147.195 753.547 Q150.274 758.131 150.274 766.881 Q150.274 775.608 147.195 780.214 Q144.14 784.797 138.33 784.797 Q132.519 784.797 129.441 780.214 Q126.385 775.608 126.385 766.881 Q126.385 758.131 129.441 753.547 Q132.519 748.941 138.33 748.941 Z\" fill=\"#000000\" fill-rule=\"nonzero\" fill-opacity=\"1\" /><path clip-path=\"url(#clip290)\" d=\"M63.9319 413.21 Q60.3208 413.21 58.4921 416.775 Q56.6865 420.316 56.6865 427.446 Q56.6865 434.552 58.4921 438.117 Q60.3208 441.659 63.9319 441.659 Q67.5661 441.659 69.3717 438.117 Q71.2004 434.552 71.2004 427.446 Q71.2004 420.316 69.3717 416.775 Q67.5661 413.21 63.9319 413.21 M63.9319 409.506 Q69.742 409.506 72.7976 414.113 Q75.8763 418.696 75.8763 427.446 Q75.8763 436.173 72.7976 440.779 Q69.742 445.362 63.9319 445.362 Q58.1217 445.362 55.043 440.779 Q51.9875 436.173 51.9875 427.446 Q51.9875 418.696 55.043 414.113 Q58.1217 409.506 63.9319 409.506 Z\" fill=\"#000000\" fill-rule=\"nonzero\" fill-opacity=\"1\" /><path clip-path=\"url(#clip290)\" d=\"M84.0938 438.812 L88.978 438.812 L88.978 444.691 L84.0938 444.691 L84.0938 438.812 Z\" fill=\"#000000\" fill-rule=\"nonzero\" fill-opacity=\"1\" /><path clip-path=\"url(#clip290)\" d=\"M97.9826 410.131 L120.205 410.131 L120.205 412.122 L107.658 444.691 L102.774 444.691 L114.58 414.066 L97.9826 414.066 L97.9826 410.131 Z\" fill=\"#000000\" fill-rule=\"nonzero\" fill-opacity=\"1\" /><path clip-path=\"url(#clip290)\" d=\"M129.371 410.131 L147.728 410.131 L147.728 414.066 L133.654 414.066 L133.654 422.538 Q134.672 422.191 135.691 422.029 Q136.709 421.844 137.728 421.844 Q143.515 421.844 146.894 425.015 Q150.274 428.187 150.274 433.603 Q150.274 439.182 146.802 442.284 Q143.33 445.362 137.01 445.362 Q134.834 445.362 132.566 444.992 Q130.32 444.622 127.913 443.881 L127.913 439.182 Q129.996 440.316 132.219 440.872 Q134.441 441.427 136.918 441.427 Q140.922 441.427 143.26 439.321 Q145.598 437.214 145.598 433.603 Q145.598 429.992 143.26 427.886 Q140.922 425.779 136.918 425.779 Q135.043 425.779 133.168 426.196 Q131.316 426.613 129.371 427.492 L129.371 410.131 Z\" fill=\"#000000\" fill-rule=\"nonzero\" fill-opacity=\"1\" /><path clip-path=\"url(#clip290)\" d=\"M53.7467 101.321 L61.3856 101.321 L61.3856 74.9555 L53.0754 76.6222 L53.0754 72.3629 L61.3393 70.6963 L66.0152 70.6963 L66.0152 101.321 L73.654 101.321 L73.654 105.256 L53.7467 105.256 L53.7467 101.321 Z\" fill=\"#000000\" fill-rule=\"nonzero\" fill-opacity=\"1\" /><path clip-path=\"url(#clip290)\" d=\"M83.0984 99.3767 L87.9827 99.3767 L87.9827 105.256 L83.0984 105.256 L83.0984 99.3767 Z\" fill=\"#000000\" fill-rule=\"nonzero\" fill-opacity=\"1\" /><path clip-path=\"url(#clip290)\" d=\"M108.168 73.775 Q104.557 73.775 102.728 77.3398 Q100.922 80.8814 100.922 88.011 Q100.922 95.1174 102.728 98.6822 Q104.557 102.224 108.168 102.224 Q111.802 102.224 113.608 98.6822 Q115.436 95.1174 115.436 88.011 Q115.436 80.8814 113.608 77.3398 Q111.802 73.775 108.168 73.775 M108.168 70.0713 Q113.978 70.0713 117.033 74.6777 Q120.112 79.261 120.112 88.011 Q120.112 96.7378 117.033 101.344 Q113.978 105.928 108.168 105.928 Q102.358 105.928 99.2789 101.344 Q96.2234 96.7378 96.2234 88.011 Q96.2234 79.261 99.2789 74.6777 Q102.358 70.0713 108.168 70.0713 Z\" fill=\"#000000\" fill-rule=\"nonzero\" fill-opacity=\"1\" /><path clip-path=\"url(#clip290)\" d=\"M138.33 73.775 Q134.719 73.775 132.89 77.3398 Q131.084 80.8814 131.084 88.011 Q131.084 95.1174 132.89 98.6822 Q134.719 102.224 138.33 102.224 Q141.964 102.224 143.769 98.6822 Q145.598 95.1174 145.598 88.011 Q145.598 80.8814 143.769 77.3398 Q141.964 73.775 138.33 73.775 M138.33 70.0713 Q144.14 70.0713 147.195 74.6777 Q150.274 79.261 150.274 88.011 Q150.274 96.7378 147.195 101.344 Q144.14 105.928 138.33 105.928 Q132.519 105.928 129.441 101.344 Q126.385 96.7378 126.385 88.011 Q126.385 79.261 129.441 74.6777 Q132.519 70.0713 138.33 70.0713 Z\" fill=\"#000000\" fill-rule=\"nonzero\" fill-opacity=\"1\" /><polyline clip-path=\"url(#clip292)\" style=\"stroke:#0000ff; stroke-linecap:round; stroke-linejoin:round; stroke-width:8; stroke-opacity:0.8; fill:none\" points=\"247.59,87.9763 268.234,196.139 288.879,303.758 309.524,408.191 330.169,511.059 350.814,607.925 371.459,702.384 392.104,788.699 412.749,872.027 433.394,945.915 454.039,1016.54 474.684,1077.3 495.329,1134.8 515.974,1182.81 536.619,1227.79 557.264,1264.23 577.909,1298.03 598.554,1324.61 619.199,1349.02 639.844,1367.64 660.489,1384.58 681.134,1397.12 701.779,1408.41 722.424,1416.52 743.069,1423.75 763.713,1428.79 784.358,1433.24 805.003,1436.25 825.648,1438.89 846.293,1440.61 866.938,1442.11 887.583,1443.06 908.228,1443.88 928.873,1444.39 949.518,1444.82 970.163,1445.07 990.808,1445.29 1011.45,1445.42 1032.1,1445.52 1052.74,1445.58 1073.39,1445.63 1094.03,1445.66 1114.68,1445.68 1135.32,1445.69 1155.97,1445.7 1176.61,1445.71 1197.26,1445.71 1217.9,1445.71 1238.55,1445.71 1259.19,1445.71 1279.84,1445.71 1300.48,1445.72 1321.13,1445.72 1341.77,1445.72 1362.42,1445.72 1383.06,1445.72 1403.71,1445.72 1424.35,1445.72 1445,1445.72 1465.64,1445.72 1486.29,1445.72 1506.93,1445.72 1527.58,1445.72 1548.22,1445.72 1568.87,1445.72 1589.51,1445.72 1610.16,1445.72 1630.8,1445.72 1651.45,1445.72 1672.09,1445.72 1692.74,1445.72 1713.38,1445.72 1734.03,1445.72 1754.67,1445.72 1775.32,1445.72 1795.96,1445.72 1816.61,1445.72 1837.25,1445.72 1857.9,1445.72 1878.54,1445.72 1899.19,1445.72 1919.83,1445.72 1940.48,1445.72 1961.12,1445.72 1981.77,1445.72 2002.41,1445.72 2023.06,1445.72 2043.7,1445.72 2064.35,1445.72 2084.99,1445.72 2105.64,1445.72 2126.28,1445.72 2146.93,1445.72 2167.57,1445.72 2188.22,1445.72 2208.86,1445.72 2229.51,1445.72 2250.15,1445.72 2270.8,1445.72 2291.44,1445.72 \"/>\n",
       "<path clip-path=\"url(#clip290)\" d=\"M1922.64 198.898 L2280.54 198.898 L2280.54 95.2176 L1922.64 95.2176  Z\" fill=\"#ffffff\" fill-rule=\"evenodd\" fill-opacity=\"1\"/>\n",
       "<polyline clip-path=\"url(#clip290)\" style=\"stroke:#000000; stroke-linecap:round; stroke-linejoin:round; stroke-width:4; stroke-opacity:1; fill:none\" points=\"1922.64,198.898 2280.54,198.898 2280.54,95.2176 1922.64,95.2176 1922.64,198.898 \"/>\n",
       "<polyline clip-path=\"url(#clip290)\" style=\"stroke:#0000ff; stroke-linecap:round; stroke-linejoin:round; stroke-width:8; stroke-opacity:0.8; fill:none\" points=\"1946.71,147.058 2091.15,147.058 \"/>\n",
       "<path clip-path=\"url(#clip290)\" d=\"M2115.22 129.778 L2119.89 129.778 L2119.89 160.402 L2136.72 160.402 L2136.72 164.338 L2115.22 164.338 L2115.22 129.778 Z\" fill=\"#000000\" fill-rule=\"nonzero\" fill-opacity=\"1\" /><path clip-path=\"url(#clip290)\" d=\"M2141.45 138.412 L2145.7 138.412 L2145.7 164.338 L2141.45 164.338 L2141.45 138.412 M2141.45 128.319 L2145.7 128.319 L2145.7 133.713 L2141.45 133.713 L2141.45 128.319 Z\" fill=\"#000000\" fill-rule=\"nonzero\" fill-opacity=\"1\" /><path clip-path=\"url(#clip290)\" d=\"M2176.17 148.689 L2176.17 164.338 L2171.91 164.338 L2171.91 148.828 Q2171.91 145.148 2170.47 143.319 Q2169.04 141.49 2166.17 141.49 Q2162.72 141.49 2160.73 143.69 Q2158.74 145.889 2158.74 149.685 L2158.74 164.338 L2154.45 164.338 L2154.45 138.412 L2158.74 138.412 L2158.74 142.44 Q2160.26 140.102 2162.32 138.944 Q2164.41 137.787 2167.12 137.787 Q2171.58 137.787 2173.88 140.565 Q2176.17 143.319 2176.17 148.689 Z\" fill=\"#000000\" fill-rule=\"nonzero\" fill-opacity=\"1\" /><path clip-path=\"url(#clip290)\" d=\"M2206.84 150.31 L2206.84 152.393 L2187.26 152.393 Q2187.53 156.791 2189.89 159.106 Q2192.28 161.398 2196.51 161.398 Q2198.97 161.398 2201.26 160.796 Q2203.57 160.194 2205.84 158.99 L2205.84 163.018 Q2203.55 163.99 2201.14 164.5 Q2198.74 165.009 2196.26 165.009 Q2190.06 165.009 2186.42 161.398 Q2182.81 157.787 2182.81 151.629 Q2182.81 145.264 2186.24 141.537 Q2189.69 137.787 2195.52 137.787 Q2200.75 137.787 2203.78 141.166 Q2206.84 144.523 2206.84 150.31 M2202.58 149.06 Q2202.53 145.565 2200.61 143.481 Q2198.71 141.398 2195.57 141.398 Q2192 141.398 2189.85 143.412 Q2187.72 145.426 2187.39 149.083 L2202.58 149.06 Z\" fill=\"#000000\" fill-rule=\"nonzero\" fill-opacity=\"1\" /><path clip-path=\"url(#clip290)\" d=\"M2240.63 134.384 L2234.29 151.583 L2247 151.583 L2240.63 134.384 M2238 129.778 L2243.3 129.778 L2256.47 164.338 L2251.61 164.338 L2248.46 155.472 L2232.88 155.472 L2229.73 164.338 L2224.8 164.338 L2238 129.778 Z\" fill=\"#000000\" fill-rule=\"nonzero\" fill-opacity=\"1\" /></svg>\n"
      ]
     },
     "execution_count": 228,
     "metadata": {},
     "output_type": "execute_result"
    }
   ],
   "source": [
    "function BC(positionIndex::Integer, counter_position_flux_value)\n",
    "    if positionIndex == 1 # left\n",
    "        return 1.0 - counter_position_flux_value\n",
    "    elseif positionIndex == 2 # right\n",
    "        return 0\n",
    "    end\n",
    "end\n",
    "\n",
    "t = 200\n",
    "A = LatticeBolzmannMethodD1Q2(t, 100, 0.25, [0.5, 0.5], x -> [0.0, 0.0], BC);\n",
    "\n",
    "xinf=1\n",
    "xsup=100\n",
    "plot(xinf:xsup, A[xinf:xsup], line = (:blue, 2, 0.8), label = \"Line A\", legend = :topright)"
   ]
  },
  {
   "cell_type": "code",
   "execution_count": null,
   "id": "93fcc4f1-b832-4438-9aa0-084cf6467fca",
   "metadata": {},
   "outputs": [],
   "source": []
  }
 ],
 "metadata": {
  "kernelspec": {
   "display_name": "Julia 1.8.0",
   "language": "julia",
   "name": "julia-1.8"
  },
  "language_info": {
   "file_extension": ".jl",
   "mimetype": "application/julia",
   "name": "julia",
   "version": "1.8.0"
  }
 },
 "nbformat": 4,
 "nbformat_minor": 5
}
