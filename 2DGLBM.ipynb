{
 "cells": [
  {
   "cell_type": "code",
   "execution_count": 1,
   "id": "9c1b87e1-437b-4ea3-bf6b-926dac37d150",
   "metadata": {},
   "outputs": [],
   "source": [
    "# using Pkg\n",
    "# Pkg.add(\"BenchmarkTools\")\n",
    "\n",
    "using Plots\n",
    "using Base.Threads\n",
    "using BenchmarkTools"
   ]
  },
  {
   "cell_type": "code",
   "execution_count": 2,
   "id": "a21559b9-a80b-4285-a3eb-22f5655bde8e",
   "metadata": {},
   "outputs": [
    {
     "data": {
      "text/plain": [
       "SolidCell(BounceBack, BounceBack, BounceBack, BounceBack, Float64[], Float64[], Float64[], Float64[])"
      ]
     },
     "execution_count": 2,
     "metadata": {},
     "output_type": "execute_result"
    }
   ],
   "source": [
    "@enum BoundaryType begin\n",
    "    NoBoundary\n",
    "    BounceBack\n",
    "    Dirichlet\n",
    "    Adiabatic\n",
    "    Open\n",
    "end\n",
    "\n",
    "\"\"\"\n",
    "# Summary\n",
    "    struct BoundaryCell\n",
    "\n",
    "## Note\n",
    "- If no boundary is specified, use [nothing] instead of an empty vector []. The latter will cause an error.\n",
    "\n",
    "# Fields\n",
    "- \"BoundaryNorth::Vector{Any}\": The first element must be of type `::BoundaryType`, and the rest are parameters for that boundary type.\n",
    "- \"BoundarySouth::Vector{Any}\": The first element must be of type `::BoundaryType`, and the rest are parameters for that boundary type.\n",
    "- \"BoundaryWest::Vector{Any}\": The first element must be of type `::BoundaryType`, and the rest are parameters for that boundary type.\n",
    "- \"BoundaryEast::Vector{Any}\": The first element must be of type `::BoundaryType`, and the rest are parameters for that boundary type.\n",
    "\"\"\"\n",
    "struct SolidCell\n",
    "    BoundaryNorth::BoundaryType\n",
    "    BoundarySouth::BoundaryType\n",
    "    BoundaryWest::BoundaryType\n",
    "    BoundaryEast::BoundaryType\n",
    "    BoundaryNorthParameters::Vector{Float64}\n",
    "    BoundarySouthParameters::Vector{Float64}\n",
    "    BoundaryWestParameters::Vector{Float64}\n",
    "    BoundaryEastParameters::Vector{Float64}\n",
    "\n",
    "    SolidCell() = new(NoBoundary, NoBoundary, NoBoundary, NoBoundary,\n",
    "                      Vector{Float64}(), Vector{Float64}(), Vector{Float64}(), Vector{Float64}())\n",
    "\n",
    "    SolidCell(boundaryNorth::BoundaryType, boundarySouth::BoundaryType, boundaryWest::BoundaryType, boundaryEast::BoundaryType) =\n",
    "        new(boundaryNorth, boundarySouth, boundaryWest, boundaryEast,\n",
    "            Vector{Float64}(), Vector{Float64}(), Vector{Float64}(), Vector{Float64}())\n",
    "\n",
    "    SolidCell(boundaryNorth::BoundaryType, boundarySouth::BoundaryType, boundaryWest::BoundaryType, boundaryEast::BoundaryType,\n",
    "              boundaryNorthParameters::Vector{Float64}, boundarySouthParameters::Vector{Float64},\n",
    "              boundaryWestParameters::Vector{Float64}, boundaryEastParameters::Vector{Float64}) =\n",
    "        new(boundaryNorth, boundarySouth, boundaryWest, boundaryEast,\n",
    "            boundaryNorthParameters, boundarySouthParameters, boundaryWestParameters, boundaryEastParameters)\n",
    "end\n",
    "\n",
    "SolidBlock = SolidCell(BounceBack, BounceBack, BounceBack, BounceBack)"
   ]
  },
  {
   "cell_type": "code",
   "execution_count": 3,
   "id": "c92f045b-7677-4942-b90b-fd0838dcd8bb",
   "metadata": {},
   "outputs": [
    {
     "data": {
      "text/plain": [
       "MetaBoundaryConditionEvaluation (generic function with 1 method)"
      ]
     },
     "execution_count": 3,
     "metadata": {},
     "output_type": "execute_result"
    }
   ],
   "source": [
    "function LatticeBoltzmannMethodD2Q9(timeSteps::Integer,\n",
    "        alpha::Float64, u::Vector{Float64},\n",
    "        initialConditions::Array{Float64, 3}, boundaryConditions, boundaryMap::Matrix{SolidCell}, sourceMap)\n",
    "\n",
    "    # Pre-check\n",
    "    @assert timeSteps > 0\n",
    "    \n",
    "    @assert length(u) == 2\n",
    "    \n",
    "    @assert size(initialConditions, 2) >= 10\n",
    "    @assert size(initialConditions, 1) >= 10\n",
    "    @assert size(initialConditions, 3) == 2\n",
    "    @assert length(size(initialConditions)) == 3\n",
    "    \n",
    "    @assert size(boundaryConditions, 1) == 4\n",
    "    @assert length(size(boundaryConditions)) == 1\n",
    "    \n",
    "    @assert size(initialConditions, 2) == size(boundaryMap, 2)\n",
    "    @assert size(initialConditions, 1) == size(boundaryMap, 1)\n",
    "    @assert length(size(boundaryMap)) == 2\n",
    "    \n",
    "    @show timeSteps\n",
    "    M = size(initialConditions, 2) # M is x (column)\n",
    "    N = size(initialConditions, 1) # N is y (row)\n",
    "    print(\"dim = $N x $M, xlim = $M, ylim = $N\\n\")\n",
    "    \n",
    "    # D2Q9 Meta data\n",
    "    # - f_1 corresonding to speed c(1,0)\n",
    "    # - f_2 corresonding to speed c(0,1)\n",
    "    # - f_3 corresonding to speed c(-1,0)\n",
    "    # - f_4 corresonding to speed c(0,-1)\n",
    "    # - f_5 corresonding to speed c(1,1)\n",
    "    # - f_6 corresonding to speed c(-1,1)\n",
    "    # - f_7 corresonding to speed c(-1,-1)\n",
    "    # - f_8 corresonding to speed c(1,-1)\n",
    "    # - f_9 corresonding to speed c(0,0)\n",
    "    dt = 1.0\n",
    "    dx = 1.0\n",
    "    dy = 1.0\n",
    "    D = 2 + 1\n",
    "    weight = [1/9, 1/9, 1/9, 1/9, 1/36, 1/36, 1/36, 1/36, 4/9]\n",
    "    c = [[1, 0], [0, 1], [-1, 0], [0, -1], [1, 1], [-1, 1], [-1, -1], [1, -1], [0, 0]]\n",
    "    klim = length(weight)\n",
    "    omega = 1.0 / (((D * alpha) / ((dx*dx) / dt)) + 0.5)\n",
    "    c_k = [dx / dt, dy / dt]\n",
    "    c_s_squared_inverse = 3 # Assume dx = dy = dt\n",
    "    \n",
    "    \n",
    "    # Initiate lattice structure\n",
    "    f = fill(0.0, (N, M, klim)) # density\n",
    "    g = fill(0.0, (N, M, klim)) # temperature\n",
    "    @threads for k in 1:klim\n",
    "        f[:, :, k] = weight[k] .* InitialConditions[:, :, 1]\n",
    "        g[:, :, k] = weight[k] .* InitialConditions[:, :, 2]\n",
    "    end    \n",
    "    # Initiate helper data structure\n",
    "    temp = fill(0.0, (N, M))\n",
    "    feq = fill(0.0, (N, M))\n",
    "    f_updated = similar(f)\n",
    "    result = zeros(N, M)\n",
    "    \n",
    "    # Main loop\n",
    "    for t in 1:timeSteps\n",
    "        # Collision Process\n",
    "        temp = sum(c_k .* u) * c_s_squared_inverse\n",
    "        feq = sum(f[:, :, j] for j in 1:9)\n",
    "        @inbounds @threads for k in 1:klim\n",
    "                    # feq = weight[k]*sum(f[n, m, :])*(1 + temp)\n",
    "                    # feq = weight[k]*sum(f[n, m, :])*(1 + temp + 0.5*temp*temp - 0.5 * sum(u .* u) * c_s_squared_inverse)\n",
    "                    f_updated[:, :, k] = f[:, :, k].*(1 - omega) + omega * weight[k] .* feq + dt * weight[k] .* sourceMap[:, :]\n",
    "        end\n",
    "        copyto!(f, f_updated)\n",
    "\n",
    "        # Streaming Process\n",
    "        f[:, 2:M, 1] = f[:, 1:M-1, 1]\n",
    "        f[:, 1, 1] .= 0.0\n",
    "\n",
    "        f[:, 1:M-1, 3] = f[:, 2:M, 3]\n",
    "        f[:, M, 3] .= 0.0\n",
    "\n",
    "        f[1:N-1, :, 2] = f[2:N, :, 2]\n",
    "        f[N, :, 2] .= 0.0\n",
    "\n",
    "        f[2:N, :, 4] = f[1:N-1, :, 4]\n",
    "        f[1, :, 4] .= 0.0\n",
    "        \n",
    "        f[1:N-1, 1:M-1, 7] = f[2:N, 2:M, 7]\n",
    "        f[N, :, 7] .= 0.0\n",
    "        f[:, M, 7] .= 0.0\n",
    "\n",
    "        f[2:N, 2:M, 5] = f[1:N-1, 1:M-1, 5]\n",
    "        f[1, :, 5] .= 0.0\n",
    "        f[:, 1, 5] .= 0.0\n",
    "\n",
    "        f[2:N, 1:M-1, 6] = f[1:N-1, 2:M, 6]\n",
    "        f[1, :, 6] .= 0.0\n",
    "        f[:, M, 6] .= 0.0\n",
    "\n",
    "        f[1:N-1, 2:M, 8] = f[2:N, 1:M-1, 8]\n",
    "        f[N, :, 8] .= 0.0\n",
    "        f[:, 1, 8] .= 0.0\n",
    "        \n",
    "        # Boundary conditions, corner points are not important\n",
    "        @inbounds @threads for m in 2:(M-1)\n",
    "            f[N, m, :] = MetaBoundaryConditionEvaluation(boundaryConditions[1], [7, 4, 8], f[N, m, :], f[N - 1, m, :])\n",
    "            f[1, m, :] = MetaBoundaryConditionEvaluation(boundaryConditions[2], [2, 6, 5], f[1, m, :], f[2, m, :])\n",
    "        end\n",
    "\n",
    "        @inbounds @threads for n in 2:(N-1)\n",
    "            f[n, 1, :] = MetaBoundaryConditionEvaluation(boundaryConditions[3], [5, 1, 8], f[n, 1, :], f[n, 2, :])\n",
    "            f[n, M, :] = MetaBoundaryConditionEvaluation(boundaryConditions[4], [6, 3, 7], f[n, M, :], f[n, M - 1, :])\n",
    "        end\n",
    "        \n",
    "    end\n",
    "    \n",
    "    @inbounds @simd for k in 1:klim\n",
    "        result .+= f[:, :, k]\n",
    "    end\n",
    "    \n",
    "    print(\"Computation Finished.\\n\")\n",
    "    return result\n",
    "end\n",
    "\n",
    "function MetaBoundaryConditionEvaluation(boundaryCondition, updateDirection, boundaryNode, cloestNode)\n",
    "    if typeof(boundaryCondition) == Vector{Any}\n",
    "        boundaryType = boundaryCondition[1]\n",
    "    else\n",
    "        boundaryType = boundaryCondition\n",
    "    end\n",
    "    \n",
    "    weight = [1/9, 1/9, 1/9, 1/9, 1/36, 1/36, 1/36, 1/36, 4/9]\n",
    "    direction = [3, 4, 1, 2, 7, 8, 5, 6, 0]\n",
    "    if boundaryType == NoBoundary\n",
    "    elseif boundaryType == Dirichlet\n",
    "        for k in updateDirection\n",
    "            boundaryNode[k] = (weight[k]+weight[direction[k]])*boundaryCondition[2] - boundaryNode[direction[k]]\n",
    "        end\n",
    "    elseif boundaryType == Adiabatic\n",
    "        return cloestNode\n",
    "    end\n",
    "    \n",
    "    return boundaryNode\n",
    "end"
   ]
  },
  {
   "cell_type": "code",
   "execution_count": 4,
   "id": "6e201a89-613c-48d0-a6f2-74516a0e5323",
   "metadata": {},
   "outputs": [],
   "source": [
    "# At Advection-Diffusion Phase, this setup use roughly 0.7s. Retry this after CH5, 6.\n",
    "M = 1000\n",
    "N = 1000\n",
    "t = 10\n",
    "\n",
    "# z == 1 initial density, z == 2 initial temperature\n",
    "InitialConditions = zeros(Float64, N, M, 2)\n",
    "# InitialConditions[6, :, 1] .= 1.0\n",
    "# InitialConditions[:, 6, 1] .= 1.0\n",
    "# heatmap(1:20, 1:10, InitialCondition[:,:,1])\n",
    "\n",
    "# Assign boundary cells to border\n",
    "BoundaryConditions = [[Dirichlet, 0.0], Adiabatic, [Dirichlet, 1.0], [Dirichlet, 1.0]]\n",
    "\n",
    "# Add block in region\n",
    "BoundaryMap        = Matrix{SolidCell}(undef, N, M)\n",
    "fill!(BoundaryMap, SolidCell())\n",
    "BoundaryMap[5, 5] = SolidBlock\n",
    "\n",
    "SourceMap = fill(0.0, N, M);"
   ]
  },
  {
   "cell_type": "code",
   "execution_count": 5,
   "id": "ccaace9c-17e3-4776-bd35-d9860e23510b",
   "metadata": {},
   "outputs": [
    {
     "name": "stdout",
     "output_type": "stream",
     "text": [
      "timeSteps = 10\n",
      "dim = 1000 x 1000, xlim = 1000, ylim = 1000\n",
      "Computation Finished.\n"
     ]
    }
   ],
   "source": [
    "result = LatticeBoltzmannMethodD2Q9(t, 0.25, [0.2, 0.1], InitialConditions, BoundaryConditions, BoundaryMap, SourceMap);"
   ]
  },
  {
   "cell_type": "code",
   "execution_count": 6,
   "id": "abfeb91c-5303-49a8-9a60-f0220d3fa8f4",
   "metadata": {},
   "outputs": [
    {
     "name": "stdout",
     "output_type": "stream",
     "text": [
      "timeSteps = 10\n",
      "dim = 1000 x 1000, xlim = 1000, ylim = 1000\n",
      "Computation Finished.\n",
      "timeSteps = 10\n",
      "dim = 1000 x 1000, xlim = 1000, ylim = 1000\n",
      "Computation Finished.\n",
      "timeSteps = 10\n",
      "dim = 1000 x 1000, xlim = 1000, ylim = 1000\n",
      "Computation Finished.\n"
     ]
    },
    {
     "data": {
      "text/plain": [
       "BenchmarkTools.Trial: 1 sample with 2 evaluations.\n",
       " Single result which took \u001b[34m11.849 s\u001b[39m (5.03% GC) to evaluate,\n",
       " with a memory estimate of \u001b[33m6.47 GiB\u001b[39m, over \u001b[33m563548\u001b[39m allocations."
      ]
     },
     "execution_count": 6,
     "metadata": {},
     "output_type": "execute_result"
    }
   ],
   "source": [
    "@benchmark LatticeBoltzmannMethodD2Q9(t, 0.25, [0.0, 0.0], InitialConditions, BoundaryConditions, BoundaryMap, SourceMap) samples=2 evals=2"
   ]
  },
  {
   "cell_type": "code",
   "execution_count": null,
   "id": "e32fd35d-b9e3-404d-956c-f9a8fb5f9088",
   "metadata": {},
   "outputs": [],
   "source": []
  }
 ],
 "metadata": {
  "kernelspec": {
   "display_name": "Julia 1.8.0",
   "language": "julia",
   "name": "julia-1.8"
  },
  "language_info": {
   "file_extension": ".jl",
   "mimetype": "application/julia",
   "name": "julia",
   "version": "1.8.0"
  }
 },
 "nbformat": 4,
 "nbformat_minor": 5
}
